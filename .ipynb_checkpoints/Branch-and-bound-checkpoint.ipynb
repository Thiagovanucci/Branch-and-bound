{
 "cells": [
  {
   "cell_type": "code",
   "execution_count": 40,
   "id": "769195d3",
   "metadata": {},
   "outputs": [],
   "source": [
    "from inspect import BoundArguments\n",
    "import sys\n",
    "from mip import *\n",
    "from collections import deque"
   ]
  },
  {
   "cell_type": "code",
   "execution_count": null,
   "id": "61825822",
   "metadata": {},
   "outputs": [],
   "source": [
    "\n",
    "\n",
    "def leitura(file):\n",
    "    f = open(file,'r')\n",
    "    res_var = f.readline()\n",
    "    nb_var,nb_res= int(res_var.split()[0]), int(res_var.split()[1])\n",
    "    \n",
    "    l = f.readline()\n",
    "    max_objetivo = [float(m) for m in l.split()]\n",
    "\n",
    "    const_restricoes = []\n",
    "    for i in range(nb_res):\n",
    "        l = f.readline()\n",
    "        const_restricoes.append([float(j) for j in l.split()] )\n",
    "    \n",
    "    restricao = []\n",
    "    for k in range(nb_res):\n",
    "        restricao.append(const_restricoes[k][-1])\n",
    "        del(const_restricoes[k][-1])\n",
    "\n",
    "    f.close()\n",
    "\n",
    "    return  nb_var, nb_res , max_objetivo , const_restricoes , restricao \n",
    "\n",
    "def criaModelo(nb_var, nb_res , max_objetivo , const_restricoes , restricao ):\n",
    "    modelo = Model(sense=\"MAXIMIZE\", solver_name=\"CBC\")\n",
    "    x = [modelo.add_var(var_type=\"CONTINUOUS\", lb=0.0, name=\"x\" + str(i))\n",
    "         for i in range(nb_var)]\n",
    "    \n",
    "    modelo.objective = xsum(max_objetivo[i]*x[i] for i in range(nb_var))\n",
    "    \n",
    "    for j in range(nb_res):\n",
    "        modelo += xsum(const_restricoes[j][i]* x[i] for i in range(nb_var)) <= restricao[j], \"Restri\" + str(j)\n",
    "    \n",
    "    return modelo\n",
    "    \n",
    "    \n",
    "nb_var, nb_res , max_objetivo , const_restricoes , restricao = leitura(\"exemplo1.txt\")\n",
    "modelo = criaModelo(nb_var, nb_res , max_objetivo , const_restricoes , restricao)\n",
    "status = modelo.optimize()\n",
    "print(f\"status \",status)\n",
    "\n",
    "\n",
    "\n",
    "\n",
    "    \n",
    "    "
   ]
  },
  {
   "cell_type": "code",
   "execution_count": null,
   "id": "6bb9585e",
   "metadata": {},
   "outputs": [],
   "source": [
    "def readInstance(filePath):\n",
    "    f = open(filePath, \"r\")\n",
    "\n",
    "    l = f.readline()\n",
    "    nb_foods, nb_nutrients = int(l.split()[0]), int(l.split()[1])\n",
    "\n",
    "\n",
    "\n",
    "    food_nutr_levels = []\n",
    "    for i in range(nb_foods):\n",
    "        l = f.readline()\n",
    "        levels = [float(level) for level in l.split()]\n",
    "        food_nutr_levels.append(levels)\n",
    "\n",
    "    f.close()\n",
    "\n",
    "    return nb_foods, nb_nutrients,food_nutr_levels\n",
    "\n",
    "print(readInstance(\"nutri.txt\"))"
   ]
  },
  {
   "cell_type": "code",
   "execution_count": null,
   "id": "23ab3629",
   "metadata": {},
   "outputs": [],
   "source": [
    "2+2"
   ]
  }
 ],
 "metadata": {
  "kernelspec": {
   "display_name": "Python 3",
   "language": "python",
   "name": "python3"
  },
  "language_info": {
   "codemirror_mode": {
    "name": "ipython",
    "version": 3
   },
   "file_extension": ".py",
   "mimetype": "text/x-python",
   "name": "python",
   "nbconvert_exporter": "python",
   "pygments_lexer": "ipython3",
   "version": "3.8.8"
  }
 },
 "nbformat": 4,
 "nbformat_minor": 5
}
