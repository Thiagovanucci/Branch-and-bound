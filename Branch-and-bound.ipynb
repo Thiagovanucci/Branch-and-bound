{
 "cells": [
  {
   "cell_type": "code",
   "execution_count": 32,
   "id": "769195d3",
   "metadata": {},
   "outputs": [],
   "source": [
    "from inspect import BoundArguments\n",
    "import sys\n",
    "import mip \n",
    "from collections import deque"
   ]
  },
  {
   "cell_type": "code",
   "execution_count": 74,
   "id": "61825822",
   "metadata": {},
   "outputs": [
    {
     "ename": "NameError",
     "evalue": "name 'nb_foods' is not defined",
     "output_type": "error",
     "traceback": [
      "\u001b[1;31m---------------------------------------------------------------------------\u001b[0m",
      "\u001b[1;31mNameError\u001b[0m                                 Traceback (most recent call last)",
      "\u001b[1;32m<ipython-input-74-23daecc9ea03>\u001b[0m in \u001b[0;36m<module>\u001b[1;34m\u001b[0m\n\u001b[0;32m     18\u001b[0m \u001b[1;33m\u001b[0m\u001b[0m\n\u001b[0;32m     19\u001b[0m     \u001b[1;32mreturn\u001b[0m \u001b[0mnb_var\u001b[0m\u001b[1;33m,\u001b[0m\u001b[0mnb_res\u001b[0m\u001b[1;33m\u001b[0m\u001b[1;33m\u001b[0m\u001b[0m\n\u001b[1;32m---> 20\u001b[1;33m \u001b[0mt\u001b[0m\u001b[1;33m=\u001b[0m \u001b[0mleitura\u001b[0m\u001b[1;33m(\u001b[0m\u001b[1;34m\"exemplo1.txt\"\u001b[0m\u001b[1;33m)\u001b[0m\u001b[1;33m\u001b[0m\u001b[1;33m\u001b[0m\u001b[0m\n\u001b[0m\u001b[0;32m     21\u001b[0m \u001b[0mprint\u001b[0m\u001b[1;33m(\u001b[0m\u001b[0mt\u001b[0m\u001b[1;33m)\u001b[0m\u001b[1;33m\u001b[0m\u001b[1;33m\u001b[0m\u001b[0m\n\u001b[0;32m     22\u001b[0m \u001b[1;33m\u001b[0m\u001b[0m\n",
      "\u001b[1;32m<ipython-input-74-23daecc9ea03>\u001b[0m in \u001b[0;36mleitura\u001b[1;34m(file)\u001b[0m\n\u001b[0;32m     15\u001b[0m     \u001b[0mf\u001b[0m\u001b[1;33m.\u001b[0m\u001b[0mclose\u001b[0m\u001b[1;33m(\u001b[0m\u001b[1;33m)\u001b[0m\u001b[1;33m\u001b[0m\u001b[1;33m\u001b[0m\u001b[0m\n\u001b[0;32m     16\u001b[0m \u001b[1;33m\u001b[0m\u001b[0m\n\u001b[1;32m---> 17\u001b[1;33m     \u001b[1;32mreturn\u001b[0m \u001b[0mnb_foods\u001b[0m\u001b[1;33m,\u001b[0m \u001b[0mnb_nutrients\u001b[0m\u001b[1;33m,\u001b[0m \u001b[0mcosts\u001b[0m\u001b[1;33m,\u001b[0m \u001b[0mmax_objetivo\u001b[0m\u001b[1;33m,\u001b[0m \u001b[0mfood_nutr_levels\u001b[0m\u001b[1;33m\u001b[0m\u001b[1;33m\u001b[0m\u001b[0m\n\u001b[0m\u001b[0;32m     18\u001b[0m \u001b[1;33m\u001b[0m\u001b[0m\n\u001b[0;32m     19\u001b[0m     \u001b[1;32mreturn\u001b[0m \u001b[0mnb_var\u001b[0m\u001b[1;33m,\u001b[0m\u001b[0mnb_res\u001b[0m\u001b[1;33m\u001b[0m\u001b[1;33m\u001b[0m\u001b[0m\n",
      "\u001b[1;31mNameError\u001b[0m: name 'nb_foods' is not defined"
     ]
    }
   ],
   "source": [
    "\n",
    "\n",
    "def leitura(file):\n",
    "    f = open(file,'r')\n",
    "    res_var = f.readline()\n",
    "    nb_var,nb_res= int(res_var.split()[0]), int(res_var.split()[1])\n",
    "    \n",
    "    l = f.readline()\n",
    "    max_objetivo = [float(m) for m in l.split()]\n",
    "\n",
    "    reticoes = []\n",
    "    for i in range(nb_var):\n",
    "        l = f.readline()\n",
    "        levels = [float(level) for level in l.split()]\n",
    "        reticoes.append(levels)\n",
    "\n",
    "    f.close()\n",
    "\n",
    "    return nb_var,nb_res, costs, max_objetivo, reticoes\n",
    "\n",
    "    \n",
    "t= leitura(\"exemplo1.txt\")\n",
    "print(t)\n",
    "    \n",
    "    "
   ]
  },
  {
   "cell_type": "code",
   "execution_count": null,
   "id": "6bb9585e",
   "metadata": {},
   "outputs": [],
   "source": []
  }
 ],
 "metadata": {
  "kernelspec": {
   "display_name": "Python 3",
   "language": "python",
   "name": "python3"
  },
  "language_info": {
   "codemirror_mode": {
    "name": "ipython",
    "version": 3
   },
   "file_extension": ".py",
   "mimetype": "text/x-python",
   "name": "python",
   "nbconvert_exporter": "python",
   "pygments_lexer": "ipython3",
   "version": "3.8.8"
  }
 },
 "nbformat": 4,
 "nbformat_minor": 5
}
