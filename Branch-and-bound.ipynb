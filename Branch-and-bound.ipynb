{
 "cells": [
  {
   "cell_type": "code",
   "execution_count": 6,
   "id": "769195d3",
   "metadata": {},
   "outputs": [],
   "source": [
    "from inspect import BoundArguments\n",
    "import sys\n",
    "from mip import *\n",
    "from collections import deque"
   ]
  },
  {
   "cell_type": "code",
   "execution_count": 45,
   "id": "61825822",
   "metadata": {},
   "outputs": [
    {
     "name": "stdout",
     "output_type": "stream",
     "text": [
      "status  OptimizationStatus.OPTIMAL\n",
      "solução: 15.666666666666668\n",
      "Solution:\n",
      "x0  =  0.0\n",
      "x1  =  0.8333333333333336\n",
      "x2  =  0.9166666666666664\n",
      "status  OptimizationStatus.OPTIMAL\n",
      "solução: 14.0\n",
      "Solution:\n",
      "x0  =  0.0\n",
      "x1  =  0.0\n",
      "x2  =  1.75\n"
     ]
    }
   ],
   "source": [
    "\n",
    "\n",
    "def leitura(file):\n",
    "    f = open(file,'r')\n",
    "    res_var = f.readline()\n",
    "    nb_var,nb_res= int(res_var.split()[0]), int(res_var.split()[1])\n",
    "    \n",
    "    l = f.readline()\n",
    "    max_objetivo = [float(m) for m in l.split()]\n",
    "\n",
    "    const_restricoes = []\n",
    "    for i in range(nb_res):\n",
    "        l = f.readline()\n",
    "        const_restricoes.append([float(j) for j in l.split()] )\n",
    "    \n",
    "    restricao = []\n",
    "    for k in range(nb_res):\n",
    "        restricao.append(const_restricoes[k][-1])\n",
    "        del(const_restricoes[k][-1])\n",
    "\n",
    "    f.close()\n",
    "\n",
    "    return  nb_var, nb_res , max_objetivo , const_restricoes , restricao \n",
    "\n",
    "def criaModelo(nb_var, nb_res , max_objetivo , const_restricoes , restricao ):\n",
    "    modelo = Model(\"teste\")\n",
    "    x = [modelo.add_var(var_type=\"CONTINUOUS\", lb=0.0, name=\"x\" + str(i))\n",
    "         for i in range(nb_var)]\n",
    "    \n",
    "    modelo.objective =maximize(xsum(max_objetivo[i]*x[i] for i in range(nb_var)))\n",
    "    \n",
    "    for j in range(nb_res):\n",
    "        modelo += xsum(const_restricoes[j][i]* x[i] for i in range(nb_var)) <= restricao[j], \"Restri\" + str(j)\n",
    "    \n",
    "    return modelo\n",
    "    \n",
    "\n",
    "def branchAndBound(sol_x, nb_res , const_restricoes , restricao,fim):\n",
    "    x = []\n",
    "    for i in range(len(sol_x)):\n",
    "        x_inteiro = int(sol_x[i])\n",
    "        if sol_x[i] != x_inteiro :\n",
    "            x.append(sol_x[i]-0.5)\n",
    "            \n",
    "    var_proxima = min(x)\n",
    "    var_proxima+= 0.5\n",
    "    ramo_menor = int(var_proxima)\n",
    "    ramo_maior = ramo_menor+1\n",
    "    nconst_restri= []\n",
    "    for j in range(len(sol_x)):\n",
    "        nconst_restri.append(0)\n",
    "        if (sol_x[j]== var_proxima):\n",
    "            nconst_restri[j] = 1\n",
    "    \n",
    "    const_restricoes.append(nconst_restri)\n",
    "    nb_res+= 1\n",
    "    restricao.append(ramo_menor)\n",
    "    fim+=1\n",
    "    return  nb_res , const_restricoes , restricao , fim\n",
    "    \n",
    "    \n",
    "nb_var, nb_res , max_objetivo , const_restricoes , restricao = leitura(\"exemplo1.txt\")\n",
    "fim = 1\n",
    "sol_x = []\n",
    "while fim <=2 :\n",
    "    modelo = criaModelo(nb_var, nb_res , max_objetivo , const_restricoes , restricao)\n",
    "    status = modelo.optimize()\n",
    "    print(f\"status \",status)\n",
    "    print(\"solução:\",modelo.objective_value)\n",
    "    print(\"Solution:\")\n",
    "    for v in modelo.vars:\n",
    "        sol_x.append(v.x)\n",
    "        print(v.name, \" = \", v.x)\n",
    "    nb_res ,const_restricoes , restricao,fim = branchAndBound(sol_x,nb_res ,const_restricoes , restricao,fim)\n",
    "    \n",
    "\n"
   ]
  },
  {
   "cell_type": "code",
   "execution_count": 3,
   "id": "23ab3629",
   "metadata": {},
   "outputs": [
    {
     "data": {
      "text/plain": [
       "5"
      ]
     },
     "execution_count": 3,
     "metadata": {},
     "output_type": "execute_result"
    }
   ],
   "source": [
    "2+3"
   ]
  }
 ],
 "metadata": {
  "kernelspec": {
   "display_name": "Python 3",
   "language": "python",
   "name": "python3"
  },
  "language_info": {
   "codemirror_mode": {
    "name": "ipython",
    "version": 3
   },
   "file_extension": ".py",
   "mimetype": "text/x-python",
   "name": "python",
   "nbconvert_exporter": "python",
   "pygments_lexer": "ipython3",
   "version": "3.8.8"
  }
 },
 "nbformat": 4,
 "nbformat_minor": 5
}
